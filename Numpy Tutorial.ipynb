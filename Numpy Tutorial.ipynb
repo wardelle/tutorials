{
 "cells": [
  {
   "cell_type": "markdown",
   "id": "1e4f0c53",
   "metadata": {},
   "source": [
    "# Numpy Tutorial"
   ]
  },
  {
   "cell_type": "markdown",
   "id": "4da81cdc",
   "metadata": {},
   "source": [
    "### Importieren von numpy"
   ]
  },
  {
   "cell_type": "code",
   "execution_count": 7,
   "id": "bc49c86b",
   "metadata": {},
   "outputs": [],
   "source": [
    "import numpy as np"
   ]
  },
  {
   "cell_type": "markdown",
   "id": "3cd4a26a",
   "metadata": {},
   "source": [
    "### Umwandeln einer Liste in ein numpy array, und warum"
   ]
  },
  {
   "cell_type": "code",
   "execution_count": 8,
   "id": "2e53255f",
   "metadata": {},
   "outputs": [
    {
     "name": "stdout",
     "output_type": "stream",
     "text": [
      "[-1.5 -1.2  0.   2.1 24.2]\n"
     ]
    }
   ],
   "source": [
    "temp = [-1.5, -1.2, 0.0, 2.1, 24.2]\n",
    "np_temp = np.array(temp)\n",
    "print(np_temp)"
   ]
  },
  {
   "cell_type": "code",
   "execution_count": 9,
   "id": "5207c36c",
   "metadata": {},
   "outputs": [
    {
     "name": "stdout",
     "output_type": "stream",
     "text": [
      "[-4.5 -3.6  0.   6.3 72.6]\n"
     ]
    }
   ],
   "source": [
    "print(3*np_temp) # \"wird mangels Kommata als normaler Vektor behandelt\""
   ]
  },
  {
   "cell_type": "code",
   "execution_count": 11,
   "id": "bd24c05a",
   "metadata": {},
   "outputs": [
    {
     "name": "stdout",
     "output_type": "stream",
     "text": [
      "[42 57]\n"
     ]
    }
   ],
   "source": [
    "print(np.array([42, 1337], np.int8)) # \"hier kann man Typen festlegen\""
   ]
  }
 ],
 "metadata": {
  "kernelspec": {
   "display_name": "Python 3",
   "language": "python",
   "name": "python3"
  },
  "language_info": {
   "codemirror_mode": {
    "name": "ipython",
    "version": 3
   },
   "file_extension": ".py",
   "mimetype": "text/x-python",
   "name": "python",
   "nbconvert_exporter": "python",
   "pygments_lexer": "ipython3",
   "version": "3.8.8"
  }
 },
 "nbformat": 4,
 "nbformat_minor": 5
}
