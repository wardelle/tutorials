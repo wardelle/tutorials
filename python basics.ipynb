{
 "cells": [
  {
   "cell_type": "markdown",
   "metadata": {},
   "source": [
    "# Python Basics"
   ]
  },
  {
   "cell_type": "markdown",
   "metadata": {},
   "source": [
    "### Lists\n",
    "store data by index, index start with 0"
   ]
  },
  {
   "cell_type": "code",
   "execution_count": 2,
   "metadata": {},
   "outputs": [
    {
     "name": "stdout",
     "output_type": "stream",
     "text": [
      "butter\n"
     ]
    }
   ],
   "source": [
    "einkaufsliste = [\"milch\", \"butter\", \"wurst\"]\n",
    "\n",
    "einkaufsggst_zwo = einkaufsliste[1]\n",
    "print(einkaufsggst_zwo)"
   ]
  },
  {
   "cell_type": "markdown",
   "metadata": {},
   "source": [
    "### Dictionaries\n",
    "store data by key instead of by index(-> lists)"
   ]
  },
  {
   "cell_type": "code",
   "execution_count": 3,
   "metadata": {},
   "outputs": [
    {
     "name": "stdout",
     "output_type": "stream",
     "text": [
      "9\n"
     ]
    }
   ],
   "source": [
    "movie_ratings = {\n",
    "  \"Interstellar\":\"9\",\n",
    "  \":Inception\": \"9\",\n",
    "  \"Oppenheimer\":\"8\",\n",
    "  }\n",
    "\n",
    "interstellar_rating = movie_ratings[\"Interstellar\"]\n",
    "print(interstellar_rating)"
   ]
  }
 ],
 "metadata": {
  "kernelspec": {
   "display_name": "ic1",
   "language": "python",
   "name": "python3"
  },
  "language_info": {
   "codemirror_mode": {
    "name": "ipython",
    "version": 3
   },
   "file_extension": ".py",
   "mimetype": "text/x-python",
   "name": "python",
   "nbconvert_exporter": "python",
   "pygments_lexer": "ipython3",
   "version": "3.9.16"
  },
  "orig_nbformat": 4
 },
 "nbformat": 4,
 "nbformat_minor": 2
}
