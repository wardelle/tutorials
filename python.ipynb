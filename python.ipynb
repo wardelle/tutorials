movie_ratings = {
  "Interstellar":"9",
  ":Inception": "9",
  "Oppenheimer":"8",
  }

interstellar_rating = movie_ratings["Interstellar"]
print(interstellar_rating)
